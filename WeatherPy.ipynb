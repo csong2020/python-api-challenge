{
 "cells": [
  {
   "cell_type": "markdown",
   "metadata": {},
   "source": [
    "# WeatherPy\n",
    "----\n",
    "\n",
    "#### Note\n",
    "* Instructions have been included for each segment. You do not have to follow them exactly, but they are included to help you think through the steps."
   ]
  },
  {
   "cell_type": "code",
   "execution_count": 1,
   "metadata": {
    "scrolled": true
   },
   "outputs": [],
   "source": [
    "# Dependencies and Setup\n",
    "import matplotlib.pyplot as plt\n",
    "import pandas as pd\n",
    "import numpy as np\n",
    "import requests\n",
    "import time\n",
    "from scipy.stats import linregress\n",
    "from pprint import pprint\n",
    "\n",
    "# Import API key\n",
    "from api_keys import weather_api_key\n",
    "\n",
    "# Incorporated citipy to determine city based on latitude and longitude\n",
    "from citipy import citipy\n",
    "\n",
    "# Output File (CSV)\n",
    "output_data_file = \"output_data/cities.csv\"\n",
    "\n",
    "# Range of latitudes and longitudes\n",
    "lat_range = (-90, 90)\n",
    "lng_range = (-180, 180)"
   ]
  },
  {
   "cell_type": "markdown",
   "metadata": {},
   "source": [
    "## Generate Cities List"
   ]
  },
  {
   "cell_type": "code",
   "execution_count": 2,
   "metadata": {},
   "outputs": [
    {
     "data": {
      "text/plain": [
       "604"
      ]
     },
     "execution_count": 2,
     "metadata": {},
     "output_type": "execute_result"
    }
   ],
   "source": [
    "# List for holding lat_lngs and cities\n",
    "lat_lngs = []\n",
    "cities = []\n",
    "\n",
    "# Create a set of random lat and lng combinations\n",
    "lats = np.random.uniform(lat_range[0], lat_range[1], size=1500)\n",
    "lngs = np.random.uniform(lng_range[0], lng_range[1], size=1500)\n",
    "lat_lngs = zip(lats, lngs)\n",
    "\n",
    "# Identify nearest city for each lat, lng combination\n",
    "for lat_lng in lat_lngs:\n",
    "    city = citipy.nearest_city(lat_lng[0], lat_lng[1]).city_name\n",
    "    \n",
    "    # If the city is unique, then add it to a our cities list\n",
    "    if city not in cities:\n",
    "        cities.append(city)\n",
    "\n",
    "# Print the city count to confirm sufficient count\n",
    "len(cities)"
   ]
  },
  {
   "cell_type": "markdown",
   "metadata": {},
   "source": [
    "### Perform API Calls\n",
    "* Perform a weather check on each city using a series of successive API calls.\n",
    "* Include a print log of each city as it'sbeing processed (with the city number and city name).\n"
   ]
  },
  {
   "cell_type": "code",
   "execution_count": 41,
   "metadata": {
    "scrolled": true
   },
   "outputs": [
    {
     "name": "stdout",
     "output_type": "stream",
     "text": [
      "{'cod': 401,\n",
      " 'message': 'Invalid API key. Please see '\n",
      "            'http://openweathermap.org/faq#error401 for more info.'}\n"
     ]
    }
   ],
   "source": [
    "##This is most similar to Day 2 Activity 5\n",
    "## create an empty list, loop through the cities list from previous cell calling the \n",
    "##url = \"http://api.openweathermap.org/data/2.5/weather?units=Imperial&APPID=\" + weather_api_key\n",
    "## remember not all cities will be present so be sure to try: except:\n",
    "##for extra finesse you could break this list down into smaller blocks and run it (optional)\n",
    "\n",
    "url = \"http://api.openweathermap.org/data/2.5/weather?units=Imperial\"\n",
    "#url was giving me an error on my API key, but I looked up issues with the url\n",
    "#https://github.com/crossminer/scava/issues/432\n",
    "#added a query for a specific city and that seems to work\n",
    "city_url = url + \"&q=\" + 'Irvine' + \"APPID=\" + weather_api_key\n",
    "response = requests.get(city_url).json()\n",
    "pprint(response)\n"
   ]
  },
  {
   "cell_type": "code",
   "execution_count": 4,
   "metadata": {},
   "outputs": [
    {
     "name": "stdout",
     "output_type": "stream",
     "text": [
      "City not present\n",
      "City not present\n",
      "City not present\n",
      "City not present\n",
      "City not present\n",
      "City not present\n",
      "City not present\n",
      "City not present\n",
      "City not present\n",
      "City not present\n",
      "City not present\n",
      "City not present\n",
      "City not present\n",
      "City not present\n",
      "City not present\n",
      "City not present\n",
      "City not present\n",
      "City not present\n",
      "City not present\n",
      "City not present\n",
      "City not present\n",
      "City not present\n",
      "City not present\n",
      "City not present\n",
      "City not present\n",
      "City not present\n",
      "City not present\n",
      "City not present\n",
      "City not present\n",
      "City not present\n",
      "City not present\n",
      "City not present\n",
      "City not present\n",
      "City not present\n",
      "City not present\n",
      "City not present\n",
      "City not present\n",
      "City not present\n",
      "City not present\n",
      "City not present\n",
      "City not present\n",
      "City not present\n",
      "City not present\n",
      "City not present\n",
      "City not present\n",
      "City not present\n",
      "City not present\n",
      "City not present\n",
      "City not present\n",
      "City not present\n",
      "City not present\n",
      "City not present\n",
      "City not present\n",
      "City not present\n",
      "City not present\n",
      "City not present\n",
      "City not present\n",
      "City not present\n",
      "City not present\n"
     ]
    },
    {
     "data": {
      "text/plain": [
       "['Eyl', 'Rikitea', 'Atuona', \"Tegul'det\", 'Saint-Philippe']"
      ]
     },
     "execution_count": 4,
     "metadata": {},
     "output_type": "execute_result"
    }
   ],
   "source": [
    "lat = []\n",
    "lng = []\n",
    "cloud = []\n",
    "date = []\n",
    "humidity = []\n",
    "max_temp = []\n",
    "min_temp = []\n",
    "wind_speed = []\n",
    "name = []\n",
    "country = []\n",
    "\n",
    "\n",
    "for city in cities:\n",
    "    try:\n",
    "        response = requests.get(url+\"&q=\"+city+\"&appid=\"+weather_api_key).json()\n",
    "        lat.append(response[\"coord\"][\"lat\"])\n",
    "        lng.append(response[\"coord\"][\"lon\"])\n",
    "        cloud.append(response[\"clouds\"][\"all\"])\n",
    "        date.append(response[\"dt\"])\n",
    "        humidity.append(response[\"main\"][\"humidity\"])\n",
    "        max_temp.append(response[\"main\"][\"temp_max\"])\n",
    "        min_temp.append(response[\"main\"][\"temp_min\"])\n",
    "        name.append(response[\"name\"])\n",
    "        wind_speed.append(response[\"wind\"][\"speed\"])\n",
    "        country.append(response[\"sys\"][\"country\"])\n",
    "\n",
    "    except:\n",
    "        print(\"City not present\")\n",
    "        \n",
    "    continue\n",
    "\n",
    "#to test if it started off successfully\n",
    "name[:5]"
   ]
  },
  {
   "cell_type": "markdown",
   "metadata": {},
   "source": [
    "### Convert Raw Data to DataFrame\n",
    "* Export the city data into a .csv.\n",
    "* Display the DataFrame"
   ]
  },
  {
   "cell_type": "code",
   "execution_count": 5,
   "metadata": {},
   "outputs": [
    {
     "data": {
      "text/html": [
       "<div>\n",
       "<style scoped>\n",
       "    .dataframe tbody tr th:only-of-type {\n",
       "        vertical-align: middle;\n",
       "    }\n",
       "\n",
       "    .dataframe tbody tr th {\n",
       "        vertical-align: top;\n",
       "    }\n",
       "\n",
       "    .dataframe thead th {\n",
       "        text-align: right;\n",
       "    }\n",
       "</style>\n",
       "<table border=\"1\" class=\"dataframe\">\n",
       "  <thead>\n",
       "    <tr style=\"text-align: right;\">\n",
       "      <th></th>\n",
       "      <th>City</th>\n",
       "      <th>Lat</th>\n",
       "      <th>Lng</th>\n",
       "      <th>Max Temp</th>\n",
       "      <th>Humidity</th>\n",
       "      <th>Cloudiness</th>\n",
       "      <th>Wind Speed</th>\n",
       "      <th>Country</th>\n",
       "      <th>Date</th>\n",
       "    </tr>\n",
       "  </thead>\n",
       "  <tbody>\n",
       "    <tr>\n",
       "      <th>0</th>\n",
       "      <td>Eyl</td>\n",
       "      <td>7.9803</td>\n",
       "      <td>49.8164</td>\n",
       "      <td>76.05</td>\n",
       "      <td>72</td>\n",
       "      <td>0</td>\n",
       "      <td>23.51</td>\n",
       "      <td>SO</td>\n",
       "      <td>1661476347</td>\n",
       "    </tr>\n",
       "    <tr>\n",
       "      <th>1</th>\n",
       "      <td>Rikitea</td>\n",
       "      <td>-23.1203</td>\n",
       "      <td>-134.9692</td>\n",
       "      <td>66.85</td>\n",
       "      <td>61</td>\n",
       "      <td>79</td>\n",
       "      <td>22.84</td>\n",
       "      <td>PF</td>\n",
       "      <td>1661476347</td>\n",
       "    </tr>\n",
       "    <tr>\n",
       "      <th>2</th>\n",
       "      <td>Atuona</td>\n",
       "      <td>-9.8000</td>\n",
       "      <td>-139.0333</td>\n",
       "      <td>76.89</td>\n",
       "      <td>70</td>\n",
       "      <td>2</td>\n",
       "      <td>13.00</td>\n",
       "      <td>PF</td>\n",
       "      <td>1661476347</td>\n",
       "    </tr>\n",
       "    <tr>\n",
       "      <th>3</th>\n",
       "      <td>Tegul'det</td>\n",
       "      <td>57.3064</td>\n",
       "      <td>88.1667</td>\n",
       "      <td>52.95</td>\n",
       "      <td>95</td>\n",
       "      <td>100</td>\n",
       "      <td>6.22</td>\n",
       "      <td>RU</td>\n",
       "      <td>1661476348</td>\n",
       "    </tr>\n",
       "    <tr>\n",
       "      <th>4</th>\n",
       "      <td>Saint-Philippe</td>\n",
       "      <td>-21.3585</td>\n",
       "      <td>55.7679</td>\n",
       "      <td>65.79</td>\n",
       "      <td>80</td>\n",
       "      <td>27</td>\n",
       "      <td>10.22</td>\n",
       "      <td>RE</td>\n",
       "      <td>1661476348</td>\n",
       "    </tr>\n",
       "  </tbody>\n",
       "</table>\n",
       "</div>"
      ],
      "text/plain": [
       "             City      Lat       Lng  Max Temp  Humidity  Cloudiness  \\\n",
       "0             Eyl   7.9803   49.8164     76.05        72           0   \n",
       "1         Rikitea -23.1203 -134.9692     66.85        61          79   \n",
       "2          Atuona  -9.8000 -139.0333     76.89        70           2   \n",
       "3       Tegul'det  57.3064   88.1667     52.95        95         100   \n",
       "4  Saint-Philippe -21.3585   55.7679     65.79        80          27   \n",
       "\n",
       "   Wind Speed Country        Date  \n",
       "0       23.51      SO  1661476347  \n",
       "1       22.84      PF  1661476347  \n",
       "2       13.00      PF  1661476347  \n",
       "3        6.22      RU  1661476348  \n",
       "4       10.22      RE  1661476348  "
      ]
     },
     "execution_count": 5,
     "metadata": {},
     "output_type": "execute_result"
    }
   ],
   "source": [
    "##remember the output of the previous cell is an array\n",
    "weathermap_df = pd.DataFrame({\n",
    "    \"City\": name,\n",
    "    \"Lat\": lat,\n",
    "    \"Lng\": lng,\n",
    "    \"Max Temp\": max_temp,\n",
    "    \"Humidity\": humidity,\n",
    "    \"Cloudiness\": cloud,\n",
    "    \"Wind Speed\": wind_speed,\n",
    "    \"Country\": country,\n",
    "    \"Date\": date    \n",
    "})\n",
    "weathermap_df.head()"
   ]
  },
  {
   "cell_type": "code",
   "execution_count": 6,
   "metadata": {},
   "outputs": [
    {
     "data": {
      "text/html": [
       "<div>\n",
       "<style scoped>\n",
       "    .dataframe tbody tr th:only-of-type {\n",
       "        vertical-align: middle;\n",
       "    }\n",
       "\n",
       "    .dataframe tbody tr th {\n",
       "        vertical-align: top;\n",
       "    }\n",
       "\n",
       "    .dataframe thead th {\n",
       "        text-align: right;\n",
       "    }\n",
       "</style>\n",
       "<table border=\"1\" class=\"dataframe\">\n",
       "  <thead>\n",
       "    <tr style=\"text-align: right;\">\n",
       "      <th></th>\n",
       "      <th>Lat</th>\n",
       "      <th>Lng</th>\n",
       "      <th>Max Temp</th>\n",
       "      <th>Humidity</th>\n",
       "      <th>Cloudiness</th>\n",
       "      <th>Wind Speed</th>\n",
       "      <th>Date</th>\n",
       "    </tr>\n",
       "  </thead>\n",
       "  <tbody>\n",
       "    <tr>\n",
       "      <th>count</th>\n",
       "      <td>553.000000</td>\n",
       "      <td>553.000000</td>\n",
       "      <td>553.000000</td>\n",
       "      <td>553.000000</td>\n",
       "      <td>553.000000</td>\n",
       "      <td>553.000000</td>\n",
       "      <td>5.530000e+02</td>\n",
       "    </tr>\n",
       "    <tr>\n",
       "      <th>mean</th>\n",
       "      <td>19.124457</td>\n",
       "      <td>12.570187</td>\n",
       "      <td>68.282297</td>\n",
       "      <td>72.242315</td>\n",
       "      <td>54.934901</td>\n",
       "      <td>7.415515</td>\n",
       "      <td>1.661476e+09</td>\n",
       "    </tr>\n",
       "    <tr>\n",
       "      <th>std</th>\n",
       "      <td>33.005506</td>\n",
       "      <td>93.316331</td>\n",
       "      <td>13.064405</td>\n",
       "      <td>19.548042</td>\n",
       "      <td>41.437478</td>\n",
       "      <td>4.970123</td>\n",
       "      <td>8.200239e+01</td>\n",
       "    </tr>\n",
       "    <tr>\n",
       "      <th>min</th>\n",
       "      <td>-54.800000</td>\n",
       "      <td>-175.200000</td>\n",
       "      <td>33.350000</td>\n",
       "      <td>8.000000</td>\n",
       "      <td>0.000000</td>\n",
       "      <td>0.000000</td>\n",
       "      <td>1.661476e+09</td>\n",
       "    </tr>\n",
       "    <tr>\n",
       "      <th>25%</th>\n",
       "      <td>-8.623100</td>\n",
       "      <td>-69.363200</td>\n",
       "      <td>58.890000</td>\n",
       "      <td>63.000000</td>\n",
       "      <td>11.000000</td>\n",
       "      <td>3.530000</td>\n",
       "      <td>1.661476e+09</td>\n",
       "    </tr>\n",
       "    <tr>\n",
       "      <th>50%</th>\n",
       "      <td>22.285500</td>\n",
       "      <td>14.532900</td>\n",
       "      <td>70.270000</td>\n",
       "      <td>77.000000</td>\n",
       "      <td>60.000000</td>\n",
       "      <td>6.330000</td>\n",
       "      <td>1.661476e+09</td>\n",
       "    </tr>\n",
       "    <tr>\n",
       "      <th>75%</th>\n",
       "      <td>47.166600</td>\n",
       "      <td>100.321300</td>\n",
       "      <td>78.150000</td>\n",
       "      <td>86.000000</td>\n",
       "      <td>100.000000</td>\n",
       "      <td>10.270000</td>\n",
       "      <td>1.661476e+09</td>\n",
       "    </tr>\n",
       "    <tr>\n",
       "      <th>max</th>\n",
       "      <td>78.218600</td>\n",
       "      <td>179.316700</td>\n",
       "      <td>102.420000</td>\n",
       "      <td>100.000000</td>\n",
       "      <td>100.000000</td>\n",
       "      <td>26.980000</td>\n",
       "      <td>1.661477e+09</td>\n",
       "    </tr>\n",
       "  </tbody>\n",
       "</table>\n",
       "</div>"
      ],
      "text/plain": [
       "              Lat         Lng    Max Temp    Humidity  Cloudiness  Wind Speed  \\\n",
       "count  553.000000  553.000000  553.000000  553.000000  553.000000  553.000000   \n",
       "mean    19.124457   12.570187   68.282297   72.242315   54.934901    7.415515   \n",
       "std     33.005506   93.316331   13.064405   19.548042   41.437478    4.970123   \n",
       "min    -54.800000 -175.200000   33.350000    8.000000    0.000000    0.000000   \n",
       "25%     -8.623100  -69.363200   58.890000   63.000000   11.000000    3.530000   \n",
       "50%     22.285500   14.532900   70.270000   77.000000   60.000000    6.330000   \n",
       "75%     47.166600  100.321300   78.150000   86.000000  100.000000   10.270000   \n",
       "max     78.218600  179.316700  102.420000  100.000000  100.000000   26.980000   \n",
       "\n",
       "               Date  \n",
       "count  5.530000e+02  \n",
       "mean   1.661476e+09  \n",
       "std    8.200239e+01  \n",
       "min    1.661476e+09  \n",
       "25%    1.661476e+09  \n",
       "50%    1.661476e+09  \n",
       "75%    1.661476e+09  \n",
       "max    1.661477e+09  "
      ]
     },
     "execution_count": 6,
     "metadata": {},
     "output_type": "execute_result"
    }
   ],
   "source": [
    "## this is accomplished with one of the functions from Pandas day1 activities 5&6\n",
    "weathermap_df.describe()"
   ]
  },
  {
   "cell_type": "code",
   "execution_count": 7,
   "metadata": {},
   "outputs": [],
   "source": [
    "weathermap_df.to_csv('weathermap_df.csv')"
   ]
  },
  {
   "cell_type": "markdown",
   "metadata": {},
   "source": [
    "## Inspect the data and remove the cities where the humidity > 100%.\n",
    "----\n",
    "Skip this step if there are no cities that have humidity > 100%. "
   ]
  },
  {
   "cell_type": "code",
   "execution_count": 8,
   "metadata": {},
   "outputs": [
    {
     "data": {
      "text/html": [
       "<div>\n",
       "<style scoped>\n",
       "    .dataframe tbody tr th:only-of-type {\n",
       "        vertical-align: middle;\n",
       "    }\n",
       "\n",
       "    .dataframe tbody tr th {\n",
       "        vertical-align: top;\n",
       "    }\n",
       "\n",
       "    .dataframe thead th {\n",
       "        text-align: right;\n",
       "    }\n",
       "</style>\n",
       "<table border=\"1\" class=\"dataframe\">\n",
       "  <thead>\n",
       "    <tr style=\"text-align: right;\">\n",
       "      <th></th>\n",
       "      <th>City</th>\n",
       "      <th>Lat</th>\n",
       "      <th>Lng</th>\n",
       "      <th>Max Temp</th>\n",
       "      <th>Humidity</th>\n",
       "      <th>Cloudiness</th>\n",
       "      <th>Wind Speed</th>\n",
       "      <th>Country</th>\n",
       "      <th>Date</th>\n",
       "    </tr>\n",
       "  </thead>\n",
       "  <tbody>\n",
       "  </tbody>\n",
       "</table>\n",
       "</div>"
      ],
      "text/plain": [
       "Empty DataFrame\n",
       "Columns: [City, Lat, Lng, Max Temp, Humidity, Cloudiness, Wind Speed, Country, Date]\n",
       "Index: []"
      ]
     },
     "execution_count": 8,
     "metadata": {},
     "output_type": "execute_result"
    }
   ],
   "source": [
    "##use loc to filter\n",
    "high_humidity_df = weathermap_df.loc[weathermap_df[\"Humidity\"] > 100]\n",
    "high_humidity_df\n",
    "\n",
    "#there are no cities where humidity > 100"
   ]
  },
  {
   "cell_type": "code",
   "execution_count": 9,
   "metadata": {},
   "outputs": [
    {
     "data": {
      "text/html": [
       "<div>\n",
       "<style scoped>\n",
       "    .dataframe tbody tr th:only-of-type {\n",
       "        vertical-align: middle;\n",
       "    }\n",
       "\n",
       "    .dataframe tbody tr th {\n",
       "        vertical-align: top;\n",
       "    }\n",
       "\n",
       "    .dataframe thead th {\n",
       "        text-align: right;\n",
       "    }\n",
       "</style>\n",
       "<table border=\"1\" class=\"dataframe\">\n",
       "  <thead>\n",
       "    <tr style=\"text-align: right;\">\n",
       "      <th></th>\n",
       "      <th>City</th>\n",
       "      <th>Lat</th>\n",
       "      <th>Lng</th>\n",
       "      <th>Max Temp</th>\n",
       "      <th>Humidity</th>\n",
       "      <th>Cloudiness</th>\n",
       "      <th>Wind Speed</th>\n",
       "      <th>Country</th>\n",
       "      <th>Date</th>\n",
       "    </tr>\n",
       "  </thead>\n",
       "  <tbody>\n",
       "    <tr>\n",
       "      <th>0</th>\n",
       "      <td>Eyl</td>\n",
       "      <td>7.9803</td>\n",
       "      <td>49.8164</td>\n",
       "      <td>76.05</td>\n",
       "      <td>72</td>\n",
       "      <td>0</td>\n",
       "      <td>23.51</td>\n",
       "      <td>SO</td>\n",
       "      <td>1661476347</td>\n",
       "    </tr>\n",
       "    <tr>\n",
       "      <th>1</th>\n",
       "      <td>Rikitea</td>\n",
       "      <td>-23.1203</td>\n",
       "      <td>-134.9692</td>\n",
       "      <td>66.85</td>\n",
       "      <td>61</td>\n",
       "      <td>79</td>\n",
       "      <td>22.84</td>\n",
       "      <td>PF</td>\n",
       "      <td>1661476347</td>\n",
       "    </tr>\n",
       "    <tr>\n",
       "      <th>2</th>\n",
       "      <td>Atuona</td>\n",
       "      <td>-9.8000</td>\n",
       "      <td>-139.0333</td>\n",
       "      <td>76.89</td>\n",
       "      <td>70</td>\n",
       "      <td>2</td>\n",
       "      <td>13.00</td>\n",
       "      <td>PF</td>\n",
       "      <td>1661476347</td>\n",
       "    </tr>\n",
       "    <tr>\n",
       "      <th>3</th>\n",
       "      <td>Tegul'det</td>\n",
       "      <td>57.3064</td>\n",
       "      <td>88.1667</td>\n",
       "      <td>52.95</td>\n",
       "      <td>95</td>\n",
       "      <td>100</td>\n",
       "      <td>6.22</td>\n",
       "      <td>RU</td>\n",
       "      <td>1661476348</td>\n",
       "    </tr>\n",
       "    <tr>\n",
       "      <th>4</th>\n",
       "      <td>Saint-Philippe</td>\n",
       "      <td>-21.3585</td>\n",
       "      <td>55.7679</td>\n",
       "      <td>65.79</td>\n",
       "      <td>80</td>\n",
       "      <td>27</td>\n",
       "      <td>10.22</td>\n",
       "      <td>RE</td>\n",
       "      <td>1661476348</td>\n",
       "    </tr>\n",
       "    <tr>\n",
       "      <th>...</th>\n",
       "      <td>...</td>\n",
       "      <td>...</td>\n",
       "      <td>...</td>\n",
       "      <td>...</td>\n",
       "      <td>...</td>\n",
       "      <td>...</td>\n",
       "      <td>...</td>\n",
       "      <td>...</td>\n",
       "      <td>...</td>\n",
       "    </tr>\n",
       "    <tr>\n",
       "      <th>548</th>\n",
       "      <td>Evensk</td>\n",
       "      <td>61.9500</td>\n",
       "      <td>159.2333</td>\n",
       "      <td>60.44</td>\n",
       "      <td>60</td>\n",
       "      <td>72</td>\n",
       "      <td>11.63</td>\n",
       "      <td>RU</td>\n",
       "      <td>1661476555</td>\n",
       "    </tr>\n",
       "    <tr>\n",
       "      <th>549</th>\n",
       "      <td>Wewak</td>\n",
       "      <td>-3.5534</td>\n",
       "      <td>143.6268</td>\n",
       "      <td>83.01</td>\n",
       "      <td>75</td>\n",
       "      <td>16</td>\n",
       "      <td>5.30</td>\n",
       "      <td>PG</td>\n",
       "      <td>1661476555</td>\n",
       "    </tr>\n",
       "    <tr>\n",
       "      <th>550</th>\n",
       "      <td>Sola</td>\n",
       "      <td>-13.8833</td>\n",
       "      <td>167.5500</td>\n",
       "      <td>79.99</td>\n",
       "      <td>73</td>\n",
       "      <td>20</td>\n",
       "      <td>22.15</td>\n",
       "      <td>VU</td>\n",
       "      <td>1661476556</td>\n",
       "    </tr>\n",
       "    <tr>\n",
       "      <th>551</th>\n",
       "      <td>Buala</td>\n",
       "      <td>-8.1450</td>\n",
       "      <td>159.5921</td>\n",
       "      <td>83.46</td>\n",
       "      <td>73</td>\n",
       "      <td>71</td>\n",
       "      <td>8.43</td>\n",
       "      <td>SB</td>\n",
       "      <td>1661476556</td>\n",
       "    </tr>\n",
       "    <tr>\n",
       "      <th>552</th>\n",
       "      <td>Kintampo</td>\n",
       "      <td>8.0563</td>\n",
       "      <td>-1.7306</td>\n",
       "      <td>71.92</td>\n",
       "      <td>82</td>\n",
       "      <td>100</td>\n",
       "      <td>4.23</td>\n",
       "      <td>GH</td>\n",
       "      <td>1661476557</td>\n",
       "    </tr>\n",
       "  </tbody>\n",
       "</table>\n",
       "<p>553 rows × 9 columns</p>\n",
       "</div>"
      ],
      "text/plain": [
       "               City      Lat       Lng  Max Temp  Humidity  Cloudiness  \\\n",
       "0               Eyl   7.9803   49.8164     76.05        72           0   \n",
       "1           Rikitea -23.1203 -134.9692     66.85        61          79   \n",
       "2            Atuona  -9.8000 -139.0333     76.89        70           2   \n",
       "3         Tegul'det  57.3064   88.1667     52.95        95         100   \n",
       "4    Saint-Philippe -21.3585   55.7679     65.79        80          27   \n",
       "..              ...      ...       ...       ...       ...         ...   \n",
       "548          Evensk  61.9500  159.2333     60.44        60          72   \n",
       "549           Wewak  -3.5534  143.6268     83.01        75          16   \n",
       "550            Sola -13.8833  167.5500     79.99        73          20   \n",
       "551           Buala  -8.1450  159.5921     83.46        73          71   \n",
       "552        Kintampo   8.0563   -1.7306     71.92        82         100   \n",
       "\n",
       "     Wind Speed Country        Date  \n",
       "0         23.51      SO  1661476347  \n",
       "1         22.84      PF  1661476347  \n",
       "2         13.00      PF  1661476347  \n",
       "3          6.22      RU  1661476348  \n",
       "4         10.22      RE  1661476348  \n",
       "..          ...     ...         ...  \n",
       "548       11.63      RU  1661476555  \n",
       "549        5.30      PG  1661476555  \n",
       "550       22.15      VU  1661476556  \n",
       "551        8.43      SB  1661476556  \n",
       "552        4.23      GH  1661476557  \n",
       "\n",
       "[553 rows x 9 columns]"
      ]
     },
     "execution_count": 9,
     "metadata": {},
     "output_type": "execute_result"
    }
   ],
   "source": [
    "not_so_high_humidity_df = weathermap_df.loc[weathermap_df[\"Humidity\"] <= 100]\n",
    "not_so_high_humidity_df"
   ]
  },
  {
   "cell_type": "code",
   "execution_count": 10,
   "metadata": {},
   "outputs": [
    {
     "data": {
      "text/html": [
       "<div>\n",
       "<style scoped>\n",
       "    .dataframe tbody tr th:only-of-type {\n",
       "        vertical-align: middle;\n",
       "    }\n",
       "\n",
       "    .dataframe tbody tr th {\n",
       "        vertical-align: top;\n",
       "    }\n",
       "\n",
       "    .dataframe thead th {\n",
       "        text-align: right;\n",
       "    }\n",
       "</style>\n",
       "<table border=\"1\" class=\"dataframe\">\n",
       "  <thead>\n",
       "    <tr style=\"text-align: right;\">\n",
       "      <th></th>\n",
       "      <th>City</th>\n",
       "      <th>Lat</th>\n",
       "      <th>Lng</th>\n",
       "      <th>Max Temp</th>\n",
       "      <th>Humidity</th>\n",
       "      <th>Cloudiness</th>\n",
       "      <th>Wind Speed</th>\n",
       "      <th>Country</th>\n",
       "      <th>Date</th>\n",
       "    </tr>\n",
       "  </thead>\n",
       "  <tbody>\n",
       "    <tr>\n",
       "      <th>0</th>\n",
       "      <td>Eyl</td>\n",
       "      <td>7.9803</td>\n",
       "      <td>49.8164</td>\n",
       "      <td>76.05</td>\n",
       "      <td>72</td>\n",
       "      <td>0</td>\n",
       "      <td>23.51</td>\n",
       "      <td>SO</td>\n",
       "      <td>1661476347</td>\n",
       "    </tr>\n",
       "    <tr>\n",
       "      <th>1</th>\n",
       "      <td>Rikitea</td>\n",
       "      <td>-23.1203</td>\n",
       "      <td>-134.9692</td>\n",
       "      <td>66.85</td>\n",
       "      <td>61</td>\n",
       "      <td>79</td>\n",
       "      <td>22.84</td>\n",
       "      <td>PF</td>\n",
       "      <td>1661476347</td>\n",
       "    </tr>\n",
       "    <tr>\n",
       "      <th>2</th>\n",
       "      <td>Atuona</td>\n",
       "      <td>-9.8000</td>\n",
       "      <td>-139.0333</td>\n",
       "      <td>76.89</td>\n",
       "      <td>70</td>\n",
       "      <td>2</td>\n",
       "      <td>13.00</td>\n",
       "      <td>PF</td>\n",
       "      <td>1661476347</td>\n",
       "    </tr>\n",
       "    <tr>\n",
       "      <th>3</th>\n",
       "      <td>Tegul'det</td>\n",
       "      <td>57.3064</td>\n",
       "      <td>88.1667</td>\n",
       "      <td>52.95</td>\n",
       "      <td>95</td>\n",
       "      <td>100</td>\n",
       "      <td>6.22</td>\n",
       "      <td>RU</td>\n",
       "      <td>1661476348</td>\n",
       "    </tr>\n",
       "    <tr>\n",
       "      <th>4</th>\n",
       "      <td>Saint-Philippe</td>\n",
       "      <td>-21.3585</td>\n",
       "      <td>55.7679</td>\n",
       "      <td>65.79</td>\n",
       "      <td>80</td>\n",
       "      <td>27</td>\n",
       "      <td>10.22</td>\n",
       "      <td>RE</td>\n",
       "      <td>1661476348</td>\n",
       "    </tr>\n",
       "    <tr>\n",
       "      <th>...</th>\n",
       "      <td>...</td>\n",
       "      <td>...</td>\n",
       "      <td>...</td>\n",
       "      <td>...</td>\n",
       "      <td>...</td>\n",
       "      <td>...</td>\n",
       "      <td>...</td>\n",
       "      <td>...</td>\n",
       "      <td>...</td>\n",
       "    </tr>\n",
       "    <tr>\n",
       "      <th>548</th>\n",
       "      <td>Evensk</td>\n",
       "      <td>61.9500</td>\n",
       "      <td>159.2333</td>\n",
       "      <td>60.44</td>\n",
       "      <td>60</td>\n",
       "      <td>72</td>\n",
       "      <td>11.63</td>\n",
       "      <td>RU</td>\n",
       "      <td>1661476555</td>\n",
       "    </tr>\n",
       "    <tr>\n",
       "      <th>549</th>\n",
       "      <td>Wewak</td>\n",
       "      <td>-3.5534</td>\n",
       "      <td>143.6268</td>\n",
       "      <td>83.01</td>\n",
       "      <td>75</td>\n",
       "      <td>16</td>\n",
       "      <td>5.30</td>\n",
       "      <td>PG</td>\n",
       "      <td>1661476555</td>\n",
       "    </tr>\n",
       "    <tr>\n",
       "      <th>550</th>\n",
       "      <td>Sola</td>\n",
       "      <td>-13.8833</td>\n",
       "      <td>167.5500</td>\n",
       "      <td>79.99</td>\n",
       "      <td>73</td>\n",
       "      <td>20</td>\n",
       "      <td>22.15</td>\n",
       "      <td>VU</td>\n",
       "      <td>1661476556</td>\n",
       "    </tr>\n",
       "    <tr>\n",
       "      <th>551</th>\n",
       "      <td>Buala</td>\n",
       "      <td>-8.1450</td>\n",
       "      <td>159.5921</td>\n",
       "      <td>83.46</td>\n",
       "      <td>73</td>\n",
       "      <td>71</td>\n",
       "      <td>8.43</td>\n",
       "      <td>SB</td>\n",
       "      <td>1661476556</td>\n",
       "    </tr>\n",
       "    <tr>\n",
       "      <th>552</th>\n",
       "      <td>Kintampo</td>\n",
       "      <td>8.0563</td>\n",
       "      <td>-1.7306</td>\n",
       "      <td>71.92</td>\n",
       "      <td>82</td>\n",
       "      <td>100</td>\n",
       "      <td>4.23</td>\n",
       "      <td>GH</td>\n",
       "      <td>1661476557</td>\n",
       "    </tr>\n",
       "  </tbody>\n",
       "</table>\n",
       "<p>553 rows × 9 columns</p>\n",
       "</div>"
      ],
      "text/plain": [
       "               City      Lat       Lng  Max Temp  Humidity  Cloudiness  \\\n",
       "0               Eyl   7.9803   49.8164     76.05        72           0   \n",
       "1           Rikitea -23.1203 -134.9692     66.85        61          79   \n",
       "2            Atuona  -9.8000 -139.0333     76.89        70           2   \n",
       "3         Tegul'det  57.3064   88.1667     52.95        95         100   \n",
       "4    Saint-Philippe -21.3585   55.7679     65.79        80          27   \n",
       "..              ...      ...       ...       ...       ...         ...   \n",
       "548          Evensk  61.9500  159.2333     60.44        60          72   \n",
       "549           Wewak  -3.5534  143.6268     83.01        75          16   \n",
       "550            Sola -13.8833  167.5500     79.99        73          20   \n",
       "551           Buala  -8.1450  159.5921     83.46        73          71   \n",
       "552        Kintampo   8.0563   -1.7306     71.92        82         100   \n",
       "\n",
       "     Wind Speed Country        Date  \n",
       "0         23.51      SO  1661476347  \n",
       "1         22.84      PF  1661476347  \n",
       "2         13.00      PF  1661476347  \n",
       "3          6.22      RU  1661476348  \n",
       "4         10.22      RE  1661476348  \n",
       "..          ...     ...         ...  \n",
       "548       11.63      RU  1661476555  \n",
       "549        5.30      PG  1661476555  \n",
       "550       22.15      VU  1661476556  \n",
       "551        8.43      SB  1661476556  \n",
       "552        4.23      GH  1661476557  \n",
       "\n",
       "[553 rows x 9 columns]"
      ]
     },
     "execution_count": 10,
     "metadata": {},
     "output_type": "execute_result"
    }
   ],
   "source": [
    "weathermap_df\n",
    "\n",
    "#the row count on the not_so_high_humidity_df matches the row count on the weathermap_df\n",
    "#therefore no action needed."
   ]
  },
  {
   "cell_type": "code",
   "execution_count": 11,
   "metadata": {},
   "outputs": [],
   "source": [
    "#  Get the indices of cities that have humidity over 100%.\n",
    "## it's the same loc with .index appended to the end, save this to dataframe for next cell\n"
   ]
  },
  {
   "cell_type": "code",
   "execution_count": 12,
   "metadata": {},
   "outputs": [],
   "source": [
    "# Make a new DataFrame equal to the city data to drop all humidity outliers by index.\n",
    "# Passing \"inplace=False\" will make a copy of the city_data DataFrame, which we call \"clean_city_data\".\n",
    "## syntax for this:\n",
    "########  variable=dataframe.drop(data_to_drop, inplace=\"False\")\n",
    "\n"
   ]
  },
  {
   "cell_type": "code",
   "execution_count": 13,
   "metadata": {},
   "outputs": [],
   "source": [
    "## create a series for each column to be used in the charts\n",
    "## one for each of these: lat, max temp, humidity, cloudiness, wind speed\n",
    "## output the data to csv\n"
   ]
  },
  {
   "cell_type": "markdown",
   "metadata": {},
   "source": [
    "## Plotting the Data\n",
    "* Use proper labeling of the plots using plot titles (including date of analysis) and axes labels.\n",
    "* Save the plotted figures as .pngs."
   ]
  },
  {
   "cell_type": "markdown",
   "metadata": {},
   "source": [
    "## Latitude vs. Temperature Plot"
   ]
  },
  {
   "cell_type": "code",
   "execution_count": 14,
   "metadata": {
    "scrolled": true
   },
   "outputs": [
    {
     "data": {
      "image/png": "[encoded data removed]",
      "text/plain": [
       "<Figure size 432x288 with 1 Axes>"
      ]
     },
     "metadata": {
      "needs_background": "light"
     },
     "output_type": "display_data"
    }
   ],
   "source": [
    "##matplotlib day 1 activities 11&12\n",
    "## remember to save the figure for submission\n",
    "\n",
    "\n",
    "weathermap_df.plot(kind = \"scatter\", x = \"Lat\", y = \"Max Temp\", marker='o', color='red')\n",
    "\n",
    "plt.xlabel(\"Latitude\")\n",
    "plt.ylabel(\"Max Temperature °F\")\n",
    "plt.title(\"Latitude vs. Temperature\")\n",
    "plt.grid(True)\n",
    "plt.tight_layout\n",
    "plt.show\n",
    "plt.savefig(\"graphs/Latitude_vs_Temperature_Plot.png\")"
   ]
  },
  {
   "cell_type": "markdown",
   "metadata": {},
   "source": [
    "## Latitude vs. Humidity Plot"
   ]
  },
  {
   "cell_type": "code",
   "execution_count": 15,
   "metadata": {},
   "outputs": [
    {
     "data": {
      "image/png": "[encoded data removed]",
      "text/plain": [
       "<Figure size 432x288 with 1 Axes>"
      ]
     },
     "metadata": {
      "needs_background": "light"
     },
     "output_type": "display_data"
    }
   ],
   "source": [
    "##matplotlib day 1 activities 11&12\n",
    "## remember to save the figure for submission\n",
    "\n",
    "weathermap_df.plot(kind = \"scatter\", x = \"Lat\", y = \"Humidity\", marker='o', color='blue')\n",
    "\n",
    "plt.xlabel(\"Latitude\")\n",
    "plt.ylabel(\"Humidity\")\n",
    "plt.title(\"Latitude vs. Humidity\")\n",
    "plt.grid(True)\n",
    "plt.tight_layout\n",
    "plt.show\n",
    "plt.savefig(\"graphs/Latitude_vs_Humidity_Plot.png\")"
   ]
  },
  {
   "cell_type": "markdown",
   "metadata": {},
   "source": [
    "## Latitude vs. Cloudiness Plot"
   ]
  },
  {
   "cell_type": "code",
   "execution_count": 16,
   "metadata": {},
   "outputs": [
    {
     "data": {
      "image/png": "[encoded data removed]",
      "text/plain": [
       "<Figure size 432x288 with 1 Axes>"
      ]
     },
     "metadata": {
      "needs_background": "light"
     },
     "output_type": "display_data"
    }
   ],
   "source": [
    "##matplotlib day 1 activities 11&12\n",
    "## remember to save the figure for submission\n",
    "\n",
    "weathermap_df.plot(kind = \"scatter\", x = \"Lat\", y = \"Cloudiness\", marker='o', color='black')\n",
    "\n",
    "plt.xlabel(\"Latitude\")\n",
    "plt.ylabel(\"Cloudiness\")\n",
    "plt.title(\"Latitude vs. Cloudiness\")\n",
    "plt.grid(True)\n",
    "plt.tight_layout\n",
    "plt.show\n",
    "plt.savefig(\"graphs/Latitude_vs_Cloudiness_Plot.png\")"
   ]
  },
  {
   "cell_type": "markdown",
   "metadata": {},
   "source": [
    "## Latitude vs. Wind Speed Plot"
   ]
  },
  {
   "cell_type": "code",
   "execution_count": 17,
   "metadata": {},
   "outputs": [
    {
     "data": {
      "image/png": "[encoded data removed]",
      "text/plain": [
       "<Figure size 432x288 with 1 Axes>"
      ]
     },
     "metadata": {
      "needs_background": "light"
     },
     "output_type": "display_data"
    }
   ],
   "source": [
    "##matplotlib day 1 activities 11&12\n",
    "## remember to save the figure for submission\n",
    "\n",
    "weathermap_df.plot(kind = \"scatter\", x = \"Lat\", y = \"Wind Speed\", marker='o', color='green')\n",
    "\n",
    "plt.xlabel(\"Latitude\")\n",
    "plt.ylabel(\"Wind Speed mph\")\n",
    "plt.title(\"Latitude vs. Wind Speed\")\n",
    "plt.grid(True)\n",
    "plt.tight_layout\n",
    "plt.show\n",
    "plt.savefig(\"graphs/Latitude_vs_Wind_Speed_Plot.png\")"
   ]
  },
  {
   "cell_type": "markdown",
   "metadata": {},
   "source": [
    "## Linear Regression"
   ]
  },
  {
   "cell_type": "code",
   "execution_count": 18,
   "metadata": {},
   "outputs": [],
   "source": [
    "##create a linear regression function if possible\n",
    "## use the code from MatPlotLib day 3 activity 8\n",
    "## from the linregress call to plt.show() can be ran as a single function\n",
    "## passing in the x_values, y_values, title and where you want the formula to show up\n",
    "## remember to put a little comment about the charts as you go.\n",
    "\n",
    "#separating hemispheres by those above 0 and below 0\n",
    "northern_hemisphere_df = weathermap_df.loc[weathermap_df[\"Lat\"] >= 0]\n",
    "southern_hemisphere_df = weathermap_df.loc[weathermap_df[\"Lat\"] < 0]\n",
    "#not sure how to differentiate northern hemisphere from southern hemisphere equally without leaving out cities with 0 latitude.\n",
    "#arbitrarily chose northern hemisphere to contain cities with latitude = 0\n",
    "\n",
    "slope_n = []\n",
    "slope_s = []\n",
    "intercept_n = []\n",
    "intercept_s = []\n",
    "r_value_n = []\n",
    "r_value_s = []\n",
    "regression_n = []\n",
    "regression_s = []\n",
    "\n",
    "#Based on assignment readme: Temperature, Humidity, Cloudiness, and Wind Speed vs Latitude linear regression is needed\n",
    "column_name = (\"Max Temp\", \"Humidity\", \"Cloudiness\", \"Wind Speed\")\n",
    "for names in column_name:\n",
    "    #looping through northern hemisphere df\n",
    "    x_axis_n = northern_hemisphere_df['Lat']\n",
    "    y_axis_n = northern_hemisphere_df[names]\n",
    "    (slope, intercept, rvalue, pvalue, stderr) = linregress(x_axis_n, y_axis_n)\n",
    "    #y = mx + b\n",
    "    regression_n_loop = x_axis_n * slope + intercept\n",
    "    #**2 squares value\n",
    "    r_sq_n = rvalue**2\n",
    "    #appending values to the northern hemisphere lists that will be used to plot regression lines\n",
    "    slope_n.append(slope)\n",
    "    intercept_n.append(intercept)\n",
    "    r_value_n.append(r_sq_n)\n",
    "    regression_n.append(regression_n_loop)\n",
    "    \n",
    "\n",
    "for names in column_name:\n",
    "    #looping through southern hemisphere df\n",
    "    x_axis_s = southern_hemisphere_df['Lat']\n",
    "    y_axis_s = southern_hemisphere_df[names]\n",
    "    (slope, intercept, rvalue, pvalue, stderr) = linregress(x_axis_s, y_axis_s)\n",
    "    #y = mx + b\n",
    "    regression_s_loop = x_axis_s * slope + intercept\n",
    "    r_sq_s = rvalue**2\n",
    "    #appending values to the southern hemisphere lists that will be used to plot regression lines\n",
    "    slope_s.append(slope)\n",
    "    intercept_s.append(intercept)\n",
    "    r_value_s.append(r_sq_s)\n",
    "    regression_s.append(regression_s_loop)\n",
    "\n",
    "\n"
   ]
  },
  {
   "cell_type": "code",
   "execution_count": 19,
   "metadata": {},
   "outputs": [],
   "source": [
    "#cleaned dataframe that lists slopes, intercepts, and r² values for Temperature, Humidity, Cloudiness, and Wind Speed metrics.\n",
    "hemisphere_n_clean_df = pd.DataFrame(\n",
    "    {\"North Slope\": slope_n,\n",
    "    \"North Intercepts\": intercept_n,\n",
    "    \"North R Squared\": r_value_n},\n",
    "    ['Max Temp','Humidity','Cloudiness','Wind Speed']\n",
    "    )\n",
    "\n",
    "hemisphere_s_clean_df = pd.DataFrame(\n",
    "    {\"South Slope\": slope_s,\n",
    "    \"South Intercepts\": intercept_s,\n",
    "    \"South R Squared\": r_value_s},\n",
    "    ['Max Temp','Humidity','Cloudiness','Wind Speed']\n",
    "    )\n"
   ]
  },
  {
   "cell_type": "code",
   "execution_count": 20,
   "metadata": {},
   "outputs": [
    {
     "data": {
      "text/html": [
       "<div>\n",
       "<style scoped>\n",
       "    .dataframe tbody tr th:only-of-type {\n",
       "        vertical-align: middle;\n",
       "    }\n",
       "\n",
       "    .dataframe tbody tr th {\n",
       "        vertical-align: top;\n",
       "    }\n",
       "\n",
       "    .dataframe thead th {\n",
       "        text-align: right;\n",
       "    }\n",
       "</style>\n",
       "<table border=\"1\" class=\"dataframe\">\n",
       "  <thead>\n",
       "    <tr style=\"text-align: right;\">\n",
       "      <th></th>\n",
       "      <th>South Slope</th>\n",
       "      <th>South Intercepts</th>\n",
       "      <th>South R Squared</th>\n",
       "    </tr>\n",
       "  </thead>\n",
       "  <tbody>\n",
       "    <tr>\n",
       "      <th>Max Temp</th>\n",
       "      <td>0.603536</td>\n",
       "      <td>78.361949</td>\n",
       "      <td>0.552834</td>\n",
       "    </tr>\n",
       "    <tr>\n",
       "      <th>Humidity</th>\n",
       "      <td>0.246950</td>\n",
       "      <td>74.889441</td>\n",
       "      <td>0.030199</td>\n",
       "    </tr>\n",
       "    <tr>\n",
       "      <th>Cloudiness</th>\n",
       "      <td>0.328765</td>\n",
       "      <td>48.226746</td>\n",
       "      <td>0.013080</td>\n",
       "    </tr>\n",
       "    <tr>\n",
       "      <th>Wind Speed</th>\n",
       "      <td>-0.030217</td>\n",
       "      <td>7.117784</td>\n",
       "      <td>0.006589</td>\n",
       "    </tr>\n",
       "  </tbody>\n",
       "</table>\n",
       "</div>"
      ],
      "text/plain": [
       "            South Slope  South Intercepts  South R Squared\n",
       "Max Temp       0.603536         78.361949         0.552834\n",
       "Humidity       0.246950         74.889441         0.030199\n",
       "Cloudiness     0.328765         48.226746         0.013080\n",
       "Wind Speed    -0.030217          7.117784         0.006589"
      ]
     },
     "execution_count": 20,
     "metadata": {},
     "output_type": "execute_result"
    }
   ],
   "source": [
    "#testing to see if the dataframes look as intended\n",
    "#hemisphere_n_clean_df\n",
    "hemisphere_s_clean_df"
   ]
  },
  {
   "cell_type": "markdown",
   "metadata": {},
   "source": [
    "####  Northern Hemisphere - Max Temp vs. Latitude Linear Regression"
   ]
  },
  {
   "cell_type": "code",
   "execution_count": 29,
   "metadata": {},
   "outputs": [
    {
     "name": "stdout",
     "output_type": "stream",
     "text": [
      "The r-value of Northern Hemisphere - Max Temp vs. Latitude is 0.5155656284618433\n"
     ]
    },
    {
     "data": {
      "image/png": "[encoded data removed]",
      "text/plain": [
       "<Figure size 432x288 with 1 Axes>"
      ]
     },
     "metadata": {
      "needs_background": "light"
     },
     "output_type": "display_data"
    },
    {
     "data": {
      "text/plain": [
       "<Figure size 432x288 with 0 Axes>"
      ]
     },
     "metadata": {},
     "output_type": "display_data"
    }
   ],
   "source": [
    "## filter your main dataframe where LAT>0 for Northern, LAT<0 for Southern hemispheres\n",
    "\n",
    "#index 0 = max temp\n",
    "\n",
    "#defining the northern regression scatter plot graph and creating a regression line\n",
    "northern_hemisphere_df.plot.scatter(x = \"Lat\", y = \"Max Temp\", marker = \"o\", color = \"blue\")\n",
    "\n",
    "#prints the r-value of this line\n",
    "print(f'The r-value of Northern Hemisphere - Max Temp vs. Latitude is {r_value_n[0]}')\n",
    "\n",
    "plt.xlabel(\"Latitude\")\n",
    "plt.ylabel(\"Max Temperature °F\")\n",
    "plt.title(\"Northern Hemisphere - Max Temp vs. Latitude Linear Regression\")\n",
    "line_equation = \"y = \" + str(round(slope_n[0], 2)) + \"x + \" + str(round(intercept_n[0], 2))\n",
    "plt.annotate(line_equation, (10,50), color = \"red\")\n",
    "plt.plot(x_axis_n, regression_n[0], \"red\")\n",
    "plt.tight_layout()\n",
    "plt.show()\n",
    "plt.savefig('graphs/Northern_Hemisphere_Latitude_vs_Temperature_Linear_Regression.png')"
   ]
  },
  {
   "cell_type": "markdown",
   "metadata": {},
   "source": [
    "####  Southern Hemisphere - Max Temp vs. Latitude Linear Regression"
   ]
  },
  {
   "cell_type": "code",
   "execution_count": 31,
   "metadata": {},
   "outputs": [
    {
     "name": "stdout",
     "output_type": "stream",
     "text": [
      "The r-value of Southern Hemisphere - Max Temp vs. Latitude is 0.5528340198927051\n"
     ]
    },
    {
     "data": {
      "image/png": "[encoded data removed]",
      "text/plain": [
       "<Figure size 432x288 with 1 Axes>"
      ]
     },
     "metadata": {
      "needs_background": "light"
     },
     "output_type": "display_data"
    },
    {
     "data": {
      "text/plain": [
       "<Figure size 432x288 with 0 Axes>"
      ]
     },
     "metadata": {},
     "output_type": "display_data"
    }
   ],
   "source": [
    "#defining the southern regression scatter plot graph and creating a regression line\n",
    "southern_hemisphere_df.plot.scatter(x = \"Lat\", y = \"Max Temp\", marker = \"o\", color = \"blue\")\n",
    "\n",
    "#prints the r-value of this line\n",
    "print(f'The r-value of Southern Hemisphere - Max Temp vs. Latitude is {r_value_s[0]}')\n",
    "\n",
    "plt.xlabel(\"Latitude\")\n",
    "plt.ylabel(\"Max Temperature °F\")\n",
    "plt.title(\"Southern Hemisphere - Max Temp vs. Latitude Linear Regression\")\n",
    "#converting slope into a string and rounding its value to 2 decimal places to make it easier to read on the graph\n",
    "line_equation = \"y = \" + str(round(slope_s[0], 2)) + \"x + \" + str(round(intercept_s[0], 2))\n",
    "plt.annotate(line_equation, (-50,70), color = \"red\")\n",
    "plt.plot(x_axis_s, regression_s[0], \"red\")\n",
    "plt.tight_layout()\n",
    "plt.show()\n",
    "plt.savefig('graphs/Southern_Hemisphere_Latitude_vs_Temperature_Linear_Regression.png')"
   ]
  },
  {
   "cell_type": "markdown",
   "metadata": {},
   "source": [
    "####  Northern Hemisphere - Humidity (%) vs. Latitude Linear Regression"
   ]
  },
  {
   "cell_type": "code",
   "execution_count": 33,
   "metadata": {},
   "outputs": [
    {
     "name": "stdout",
     "output_type": "stream",
     "text": [
      "The r-value of Northern Hemisphere - Humidity vs. Latitude is 0.007159940021681437\n"
     ]
    },
    {
     "data": {
      "image/png": "[encoded data removed]",
      "text/plain": [
       "<Figure size 432x288 with 1 Axes>"
      ]
     },
     "metadata": {
      "needs_background": "light"
     },
     "output_type": "display_data"
    },
    {
     "data": {
      "text/plain": [
       "<Figure size 432x288 with 0 Axes>"
      ]
     },
     "metadata": {},
     "output_type": "display_data"
    }
   ],
   "source": [
    "#index 1 = humidity\n",
    "\n",
    "\n",
    "northern_hemisphere_df.plot.scatter(x = \"Lat\", y = \"Humidity\", marker = \"o\", color = \"blue\")\n",
    "\n",
    "#prints the r-value of this line\n",
    "print(f'The r-value of Northern Hemisphere - Humidity vs. Latitude is {r_value_n[1]}')\n",
    "\n",
    "plt.xlabel(\"Latitude\")\n",
    "plt.ylabel(\"Humidity\")\n",
    "plt.title(\"Northern Hemisphere - Humidity (%) vs. Latitude Linear Regression\")\n",
    "line_equation = \"y = \" + str(round(slope_n[1], 2)) + \"x + \" + str(round(intercept_n[1], 2))\n",
    "plt.annotate(line_equation, (5,20), color = \"red\")\n",
    "plt.plot(x_axis_n, regression_n[1], \"red\")\n",
    "plt.tight_layout()\n",
    "plt.show()\n",
    "plt.savefig('graphs/Northern_Humidity_vs_Latitude_Linear_Regression.png')"
   ]
  },
  {
   "cell_type": "markdown",
   "metadata": {},
   "source": [
    "####  Southern Hemisphere - Humidity (%) vs. Latitude Linear Regression"
   ]
  },
  {
   "cell_type": "code",
   "execution_count": 34,
   "metadata": {},
   "outputs": [
    {
     "name": "stdout",
     "output_type": "stream",
     "text": [
      "The r-value of Southern Hemisphere - Humidity vs. Latitude is 0.030198956792207153\n"
     ]
    },
    {
     "data": {
      "image/png": "[encoded data removed]",
      "text/plain": [
       "<Figure size 432x288 with 1 Axes>"
      ]
     },
     "metadata": {
      "needs_background": "light"
     },
     "output_type": "display_data"
    },
    {
     "data": {
      "text/plain": [
       "<Figure size 432x288 with 0 Axes>"
      ]
     },
     "metadata": {},
     "output_type": "display_data"
    }
   ],
   "source": [
    "southern_hemisphere_df.plot.scatter(x = \"Lat\", y = \"Humidity\", marker=\"o\", color = \"blue\")\n",
    "\n",
    "#prints the r-value of this line\n",
    "print(f'The r-value of Southern Hemisphere - Humidity vs. Latitude is {r_value_s[1]}')\n",
    "\n",
    "plt.xlabel(\"Latitude\")\n",
    "plt.ylabel(\"Humidity\")\n",
    "plt.title(\"Southern Hemisphere - Humidity (%) vs. Latitude Linear Regression\")\n",
    "line_equation = \"y = \" + str(round(slope_s[1], 2)) + \"x + \" + str(round(intercept_s[1], 2))\n",
    "plt.annotate(line_equation, (-50,20), color = \"red\")\n",
    "plt.plot(x_axis_s, regression_s[1], \"red\")\n",
    "plt.tight_layout()\n",
    "plt.show()\n",
    "plt.savefig('graphs/Southern_Humidity_vs_Latitude_Linear_Regression.png')"
   ]
  },
  {
   "cell_type": "markdown",
   "metadata": {},
   "source": [
    "####  Northern Hemisphere - Cloudiness (%) vs. Latitude Linear Regression"
   ]
  },
  {
   "cell_type": "code",
   "execution_count": 35,
   "metadata": {},
   "outputs": [
    {
     "name": "stdout",
     "output_type": "stream",
     "text": [
      "The r-value of Northern Hemisphere - Cloudiness vs. Latitude is 5.109599937440283e-05\n"
     ]
    },
    {
     "data": {
      "image/png": "[encoded data removed]",
      "text/plain": [
       "<Figure size 432x288 with 1 Axes>"
      ]
     },
     "metadata": {
      "needs_background": "light"
     },
     "output_type": "display_data"
    },
    {
     "data": {
      "text/plain": [
       "<Figure size 432x288 with 0 Axes>"
      ]
     },
     "metadata": {},
     "output_type": "display_data"
    }
   ],
   "source": [
    "#index 2 = cloudiness\n",
    "\n",
    "northern_hemisphere_df.plot.scatter(x = \"Lat\", y = \"Cloudiness\", marker = \"o\", color = \"blue\")\n",
    "\n",
    "#prints the r-value of this line\n",
    "print(f'The r-value of Northern Hemisphere - Cloudiness vs. Latitude is {r_value_n[2]}')\n",
    "\n",
    "plt.xlabel(\"Latitude\")\n",
    "plt.ylabel(\"Cloudiness\")\n",
    "plt.title(\"Northern Hemisphere - Cloudiness (%) vs. Latitude Linear Regression\")\n",
    "line_equation = \"y = \" + str(round(slope_n[2], 2)) + \"x + \" + str(round(intercept_n[2], 2))\n",
    "plt.annotate(line_equation, (55,55), color = \"red\")\n",
    "plt.plot(x_axis_n, regression_n[2], \"red\")\n",
    "plt.tight_layout()\n",
    "plt.show()\n",
    "plt.savefig('graphs/Northern_Cloudiness_vs_Latitude_Linear_Regression.png')"
   ]
  },
  {
   "cell_type": "markdown",
   "metadata": {},
   "source": [
    "####  Southern Hemisphere - Cloudiness (%) vs. Latitude Linear Regression"
   ]
  },
  {
   "cell_type": "code",
   "execution_count": 36,
   "metadata": {},
   "outputs": [
    {
     "name": "stdout",
     "output_type": "stream",
     "text": [
      "The r-value of Southern Hemisphere - Cloudiness vs. Latitude is 0.013080327976904461\n"
     ]
    },
    {
     "data": {
      "image/png": "[encoded data removed]",
      "text/plain": [
       "<Figure size 432x288 with 1 Axes>"
      ]
     },
     "metadata": {
      "needs_background": "light"
     },
     "output_type": "display_data"
    },
    {
     "data": {
      "text/plain": [
       "<Figure size 432x288 with 0 Axes>"
      ]
     },
     "metadata": {},
     "output_type": "display_data"
    }
   ],
   "source": [
    "southern_hemisphere_df.plot.scatter(x = \"Lat\", y = \"Cloudiness\", marker = \"o\", color = \"blue\")\n",
    "\n",
    "#prints the r-value of this line\n",
    "print(f'The r-value of Southern Hemisphere - Cloudiness vs. Latitude is {r_value_s[2]}')\n",
    "\n",
    "plt.xlabel(\"Latitude\")\n",
    "plt.ylabel(\"Cloudiness (%)\")\n",
    "plt.title(\"Southern Hemisphere - Cloudiness (%) vs. Latitude Linear Regression\")\n",
    "line_equation = \"y = \" + str(round(slope_s[2], 2)) + \"x + \" + str(round(intercept_s[2], 2))\n",
    "plt.annotate(line_equation, (-50,25), color = \"red\")\n",
    "plt.plot(x_axis_s, regression_s[2], \"red\")\n",
    "plt.tight_layout()\n",
    "plt.show()\n",
    "plt.savefig('graphs/Southern_Cloudiness_vs_Latitude_Linear_Regression.png')"
   ]
  },
  {
   "cell_type": "markdown",
   "metadata": {},
   "source": [
    "####  Northern Hemisphere - Wind Speed (mph) vs. Latitude Linear Regression"
   ]
  },
  {
   "cell_type": "code",
   "execution_count": 37,
   "metadata": {},
   "outputs": [
    {
     "name": "stdout",
     "output_type": "stream",
     "text": [
      "The r-value of Northern Hemisphere - Wind Speed vs. Latitude is 0.002803022873575729\n"
     ]
    },
    {
     "data": {
      "image/png": "[encoded data removed]",
      "text/plain": [
       "<Figure size 432x288 with 1 Axes>"
      ]
     },
     "metadata": {
      "needs_background": "light"
     },
     "output_type": "display_data"
    },
    {
     "data": {
      "text/plain": [
       "<Figure size 432x288 with 0 Axes>"
      ]
     },
     "metadata": {},
     "output_type": "display_data"
    }
   ],
   "source": [
    "#index 3 = wind speed\n",
    "\n",
    "northern_hemisphere_df.plot.scatter(x = \"Lat\", y = \"Wind Speed\", marker=\"o\", color = \"blue\")\n",
    "\n",
    "#prints the r-value of this line\n",
    "print(f'The r-value of Northern Hemisphere - Wind Speed vs. Latitude is {r_value_n[3]}')\n",
    "\n",
    "plt.xlabel(\"Latitude\")\n",
    "plt.ylabel(\"Wind Speed (mph)\")\n",
    "plt.title(\"Northern Hemisphere - Wind Speed vs. Latitude Linear Regression\")\n",
    "line_equation = \"y = \" + str(round(slope_n[3], 2)) + \"x + \" + str(round(intercept_n[3], 2))\n",
    "plt.annotate(line_equation, (50,25), color = \"red\")\n",
    "plt.plot(x_axis_n, regression_n[3], \"red\")\n",
    "plt.tight_layout()\n",
    "plt.show()\n",
    "plt.savefig('graphs/Northern_Wind_Speed_vs_Latitude_Linear_Regression.png')\n"
   ]
  },
  {
   "cell_type": "markdown",
   "metadata": {},
   "source": [
    "####  Southern Hemisphere - Wind Speed (mph) vs. Latitude Linear Regression"
   ]
  },
  {
   "cell_type": "code",
   "execution_count": 38,
   "metadata": {},
   "outputs": [
    {
     "name": "stdout",
     "output_type": "stream",
     "text": [
      "The r-value of Southern Hemisphere - Wind Speed vs. Latitude is 0.006588614419802226\n"
     ]
    },
    {
     "data": {
      "image/png": "[encoded data removed]",
      "text/plain": [
       "<Figure size 432x288 with 1 Axes>"
      ]
     },
     "metadata": {
      "needs_background": "light"
     },
     "output_type": "display_data"
    },
    {
     "data": {
      "text/plain": [
       "<Figure size 432x288 with 0 Axes>"
      ]
     },
     "metadata": {},
     "output_type": "display_data"
    }
   ],
   "source": [
    "southern_hemisphere_df.plot.scatter(x = \"Lat\", y = \"Wind Speed\", marker = \"o\", color = \"blue\")\n",
    "\n",
    "#prints the r-value of this line\n",
    "print(f'The r-value of Southern Hemisphere - Wind Speed vs. Latitude is {r_value_s[3]}')\n",
    "\n",
    "plt.xlabel(\"Latitude\")\n",
    "plt.ylabel(\"Wind Speed (mph)\")\n",
    "plt.title(\"Southern Hemisphere - Wind Speed vs. Latitude Linear Regression\")\n",
    "line_equation = \"y = \" + str(round(slope_s[3], 2)) + \"x + \" + str(round(intercept_s[3], 2))\n",
    "plt.annotate(line_equation, (-50,23), color = \"red\")\n",
    "plt.plot(x_axis_s, regression_s[3], \"red\")\n",
    "plt.tight_layout()\n",
    "plt.show()\n",
    "plt.savefig('graphs/Southern_Wind_Speed_vs_Latitude_Linear_Regression.png')\n"
   ]
  },
  {
   "cell_type": "code",
   "execution_count": null,
   "metadata": {},
   "outputs": [],
   "source": []
  }
 ],
 "metadata": {
  "anaconda-cloud": {},
  "kernel_info": {
   "name": "python3"
  },
  "kernelspec": {
   "display_name": "Python 3.9.12 ('base')",
   "language": "python",
   "name": "python3"
  },
  "language_info": {
   "codemirror_mode": {
    "name": "ipython",
    "version": 3
   },
   "file_extension": ".py",
   "mimetype": "text/x-python",
   "name": "python",
   "nbconvert_exporter": "python",
   "pygments_lexer": "ipython3",
   "version": "3.9.12"
  },
  "latex_envs": {
   "LaTeX_envs_menu_present": true,
   "autoclose": false,
   "autocomplete": true,
   "bibliofile": "biblio.bib",
   "cite_by": "apalike",
   "current_citInitial": 1,
   "eqLabelWithNumbers": true,
   "eqNumInitial": 1,
   "hotkeys": {
    "equation": "Ctrl-E",
    "itemize": "Ctrl-I"
   },
   "labels_anchors": false,
   "latex_user_defs": false,
   "report_style_numbering": false,
   "user_envs_cfg": false
  },
  "nteract": {
   "version": "0.12.3"
  },
  "vscode": {
   "interpreter": {
    "hash": "07b9bce58800e0c6bedceed095b1f0040fd5a37e90a2446371ba89fcb226324d"
   }
  }
 },
 "nbformat": 4,
 "nbformat_minor": 2
}
